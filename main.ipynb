{
  "cells": [
    {
      "cell_type": "markdown",
      "metadata": {
        "id": "view-in-github",
        "colab_type": "text"
      },
      "source": [
        "<a href=\"https://colab.research.google.com/github/saulrubio75/lab-lambda-functions/blob/master/main.ipynb\" target=\"_parent\"><img src=\"https://colab.research.google.com/assets/colab-badge.svg\" alt=\"Open In Colab\"/></a>"
      ]
    },
    {
      "cell_type": "markdown",
      "metadata": {
        "id": "5YxCOrPmhIB6"
      },
      "source": [
        "# Before your start:\n",
        "- Read the README.md file\n",
        "- Comment as much as you can and use the resources in the README.md file\n",
        "- Happy learning!"
      ]
    },
    {
      "cell_type": "markdown",
      "metadata": {
        "id": "uB9At-bmhIB-"
      },
      "source": [
        "# Challenge 1 - Passing a Lambda Expression to a Function\n",
        "\n",
        "In the next excercise you will create a function that returns a lambda expression. Create a function called `modify_list`. The function takes two arguments, a list and a lambda expression. The function iterates through the list and applies the lambda expression to every element in the list."
      ]
    },
    {
      "cell_type": "raw",
      "metadata": {
        "id": "JYLZSr3PhIB_"
      },
      "source": [
        "Follow the steps as stated below:\n",
        "    1. Define a list of any 10 numbers\n",
        "    2. Define a simple lambda expression for eg that updates a number by 2\n",
        "    3. Define an empty list\n",
        "    4. Define the function -> use the lambda function to append the empty list\n",
        "    5. Call the function with list and lambda expression\n",
        "    6. print the updated list  "
      ]
    },
    {
      "cell_type": "code",
      "execution_count": 7,
      "metadata": {
        "colab": {
          "base_uri": "https://localhost:8080/"
        },
        "id": "0S-xKVcOhIB_",
        "outputId": "a23ee3da-4abd-461a-8e62-d264aad00e34"
      },
      "outputs": [
        {
          "output_type": "stream",
          "name": "stdout",
          "text": [
            "[5, 10, 15, 20, 25, 30, 35, 40, 45, 50]\n"
          ]
        }
      ],
      "source": [
        "l = [1, 2, 3, 4, 5, 6, 7, 8, 9, 10]\n",
        "f = lambda x: x*5 \n",
        "b = []\n",
        "def modify_list(lst, fudduLambda):\n",
        "    for x in l:\n",
        "        b.append(f(x))\n",
        "\n",
        "modify_list(l,f)\n",
        "print(b)\n",
        "\n",
        "  \n",
        "#print b \n"
      ]
    },
    {
      "cell_type": "markdown",
      "metadata": {
        "id": "__dt3BNJhICA"
      },
      "source": [
        "#### Now we will define a lambda expression that will transform the elements of the list. \n",
        "\n",
        "In the cell below, create a lambda expression that converts Celsius to Kelvin. Recall that 0°C + 273.15 = 273.15K"
      ]
    },
    {
      "cell_type": "code",
      "execution_count": 23,
      "metadata": {
        "colab": {
          "base_uri": "https://localhost:8080/"
        },
        "id": "-aDm9VqShICB",
        "outputId": "248df2f1-0945-4815-9c88-1d97e44f6986"
      },
      "outputs": [
        {
          "output_type": "execute_result",
          "data": {
            "text/plain": [
              "308.15"
            ]
          },
          "metadata": {},
          "execution_count": 23
        }
      ],
      "source": [
        "# Your code here: \n",
        "c_k = lambda x: x + 273.15 \n",
        "c_k(35) \n",
        "\n"
      ]
    },
    {
      "cell_type": "markdown",
      "metadata": {
        "id": "vCvELFsdhICB"
      },
      "source": [
        "Finally, convert the list of temperatures below from Celsius to Kelvin."
      ]
    },
    {
      "cell_type": "code",
      "execution_count": 24,
      "metadata": {
        "colab": {
          "base_uri": "https://localhost:8080/"
        },
        "id": "OK2dlHsuhICC",
        "outputId": "4f7549aa-73b9-4b7f-c44e-c156166fc9a7"
      },
      "outputs": [
        {
          "output_type": "stream",
          "name": "stdout",
          "text": [
            "[285.15, 296.15, 311.15, 218.14999999999998, 297.15]\n"
          ]
        }
      ],
      "source": [
        "temps = [12, 23, 38, -55, 24]\n",
        "\n",
        "# Your code here:  \n",
        "\n",
        "temps_kel = [c_k(temp) for temp in temps]\n",
        "\n",
        "print(temps_kel)\n",
        "\n"
      ]
    },
    {
      "cell_type": "markdown",
      "metadata": {
        "id": "T6IrMUunhICC"
      },
      "source": [
        "#### In this part, we will define a function that returns a lambda expression\n",
        "\n",
        "In the cell below, write a lambda expression that takes two numbers and returns 1 if one is divisible by the other and zero otherwise. Call the lambda expression `mod`."
      ]
    },
    {
      "cell_type": "code",
      "execution_count": 27,
      "metadata": {
        "colab": {
          "base_uri": "https://localhost:8080/"
        },
        "id": "IlmeU7yLhICC",
        "outputId": "1695fe05-5745-4332-e2b7-bad169d5273f"
      },
      "outputs": [
        {
          "output_type": "stream",
          "name": "stdout",
          "text": [
            "<function <lambda> at 0x7f6a365eb0e0>\n"
          ]
        }
      ],
      "source": [
        "# Your code here:\n",
        "mod = lambda x: 1 if x % y == 0 else 0 \n",
        "\n",
        "print(mod)"
      ]
    },
    {
      "cell_type": "markdown",
      "metadata": {
        "id": "V0iUDnUrhICD"
      },
      "source": [
        "#### Now create a function that returns mod. The function only takes one argument - the first number in the `mod` lambda function. \n",
        "\n",
        "Note: the lambda function above took two arguments, the lambda function in the return statement only takes one argument but also uses the argument passed to the function."
      ]
    },
    {
      "cell_type": "code",
      "execution_count": 28,
      "metadata": {
        "id": "35Fm6nC3hICD"
      },
      "outputs": [],
      "source": [
        "def divisor(b):\n",
        "    \"\"\"\n",
        "    input: a number\n",
        "    output: a function that returns 1 if the number is divisible by another number (to be passed later) and zero otherwise\n",
        "    \"\"\"\n",
        "    \n",
        "    # Your code here:   \n",
        "    return lambda x:1 if x%b == 0 else 0  \n",
        "\n"
      ]
    },
    {
      "cell_type": "markdown",
      "metadata": {
        "id": "pppSRqn3hICD"
      },
      "source": [
        "Finally, pass the number 5 to `divisor`. Now the function will check whether a number is divisble by 5. Assign this function to `divisible5`"
      ]
    },
    {
      "cell_type": "code",
      "execution_count": 29,
      "metadata": {
        "colab": {
          "base_uri": "https://localhost:8080/"
        },
        "id": "YAGGUBmWhICE",
        "outputId": "8b5cac10-6693-4171-fe2b-bb636b39b76f"
      },
      "outputs": [
        {
          "output_type": "execute_result",
          "data": {
            "text/plain": [
              "1"
            ]
          },
          "metadata": {},
          "execution_count": 29
        }
      ],
      "source": [
        "# Your code here:\n",
        "divisible5=divisor(5)\n",
        "divisible5(20)"
      ]
    },
    {
      "cell_type": "markdown",
      "metadata": {
        "id": "WAmKItCQhICE"
      },
      "source": [
        "Test your function with the following test cases:"
      ]
    },
    {
      "cell_type": "code",
      "execution_count": 30,
      "metadata": {
        "colab": {
          "base_uri": "https://localhost:8080/"
        },
        "id": "fP76IcQOhICE",
        "outputId": "35b38e53-92f9-4764-b161-e32785d7cdee"
      },
      "outputs": [
        {
          "output_type": "execute_result",
          "data": {
            "text/plain": [
              "1"
            ]
          },
          "metadata": {},
          "execution_count": 30
        }
      ],
      "source": [
        "divisible5(10)"
      ]
    },
    {
      "cell_type": "code",
      "execution_count": 31,
      "metadata": {
        "colab": {
          "base_uri": "https://localhost:8080/"
        },
        "id": "6nRp9FrAhICF",
        "outputId": "5485d849-100f-4577-a6dd-4408cc75857c"
      },
      "outputs": [
        {
          "output_type": "execute_result",
          "data": {
            "text/plain": [
              "0"
            ]
          },
          "metadata": {},
          "execution_count": 31
        }
      ],
      "source": [
        "divisible5(8)"
      ]
    },
    {
      "cell_type": "markdown",
      "metadata": {
        "id": "_8od8YNOhICF"
      },
      "source": [
        "# Challenge 2 - Using Lambda Expressions in List Comprehensions\n",
        "\n",
        "In the following challenge, we will combine two lists using a lambda expression in a list comprehension. \n",
        "\n",
        "To do this, we will need to introduce the `zip` function. The `zip` function returns an iterator of tuples.\n",
        "\n",
        "The way zip function works with list has been shown below:"
      ]
    },
    {
      "cell_type": "code",
      "execution_count": null,
      "metadata": {
        "id": "ndnxCUcXhICF",
        "outputId": "50e7ee8e-873f-4507-986d-acbf2e11cbc5"
      },
      "outputs": [
        {
          "data": {
            "text/plain": [
              "[('Green', 'eggs'),\n",
              " ('cheese', 'cheese'),\n",
              " ('English', 'cucumber'),\n",
              " ('tomato', 'tomato')]"
            ]
          },
          "execution_count": 1,
          "metadata": {},
          "output_type": "execute_result"
        }
      ],
      "source": [
        "list1 = ['Green', 'cheese', 'English', 'tomato']\n",
        "list2 = ['eggs', 'cheese', 'cucumber', 'tomato']\n",
        "zipped = zip(list1,list2)\n",
        "list(zipped)"
      ]
    },
    {
      "cell_type": "markdown",
      "metadata": {
        "id": "xtgxKLUnhICG"
      },
      "source": [
        "In this exercise we will try to compare the elements on the same index in the two lists. \n",
        "We want to zip the two lists and then use a lambda expression to compare if:\n",
        "list1 element > list2 element "
      ]
    },
    {
      "cell_type": "code",
      "execution_count": 38,
      "metadata": {
        "colab": {
          "base_uri": "https://localhost:8080/"
        },
        "id": "7AU6U5hWhICG",
        "outputId": "fa862c1c-2fba-4947-e5de-a4ed11b989c2"
      },
      "outputs": [
        {
          "output_type": "stream",
          "name": "stdout",
          "text": [
            "<zip object at 0x7f6a366723c0>\n"
          ]
        }
      ],
      "source": [
        "list1 = [1,2,3,4]\n",
        "list2 = [2,3,4,5]\n",
        "## Zip the lists together  \n",
        "zipped1 = zip(list1, list2) \n",
        "\n",
        "## Print the zipped list  \n",
        "print(zipped1)\n"
      ]
    },
    {
      "cell_type": "raw",
      "metadata": {
        "id": "XD1o2RXKhICG"
      },
      "source": [
        "Complete the parts of the code marked as \"###\""
      ]
    },
    {
      "cell_type": "code",
      "execution_count": null,
      "metadata": {
        "id": "v_UY5sN4hICH",
        "outputId": "dd1c6337-7fb0-4016-f7bb-00b442cc7841"
      },
      "outputs": [
        {
          "data": {
            "text/plain": [
              "'\\n\\ncompare = lambda ###: print(\"True\") if ### else print(\"False\")\\nfor ### in zip(list1,list2):\\n    compare(###)\\n    \\n'"
            ]
          },
          "execution_count": 4,
          "metadata": {},
          "output_type": "execute_result"
        }
      ],
      "source": [
        "'''\n",
        "\n",
        "compare = lambda ###: print(\"True\") if ### else print(\"False\")\n",
        "for ### in zip(list1,list2):\n",
        "    compare(###)\n",
        "    \n",
        "'''    "
      ]
    },
    {
      "cell_type": "markdown",
      "metadata": {
        "id": "l5IX2Y41hICH"
      },
      "source": [
        "# Challenge 3 - Using Lambda Expressions as Arguments\n",
        "\n",
        "#### In this challenge, we will zip together two lists and sort by the resulting tuple.\n",
        "\n",
        "In the cell below, take the two lists provided, zip them together and sort by the first letter of the second element of each tuple. Do this using a lambda function."
      ]
    },
    {
      "cell_type": "code",
      "execution_count": 39,
      "metadata": {
        "colab": {
          "base_uri": "https://localhost:8080/"
        },
        "id": "YGy9umBJhICH",
        "outputId": "68df29d3-9a21-4ace-a4f8-8736f5af3c17"
      },
      "outputs": [
        {
          "output_type": "execute_result",
          "data": {
            "text/plain": [
              "[('Essay', 'Political Science'),\n",
              " ('Homework', 'Computer Science'),\n",
              " ('Lab', 'Engineering'),\n",
              " ('Module', 'Mathematics')]"
            ]
          },
          "metadata": {},
          "execution_count": 39
        }
      ],
      "source": [
        "list1 = ['Engineering', 'Computer Science', 'Political Science', 'Mathematics']\n",
        "list2 = ['Lab', 'Homework', 'Essay', 'Module']\n",
        "\n",
        "# Your code here:\n",
        "org =lambda l1, l2: sorted(list(zip(list2,list1)))\n",
        "org(list2,list1)"
      ]
    },
    {
      "cell_type": "markdown",
      "metadata": {
        "id": "rErXv3j8hICH"
      },
      "source": [
        "# Bonus Challenge - Sort a Dictionary by Values\n",
        "\n",
        "Given the dictionary below, sort it by values rather than by keys. Use a lambda function to specify the values as a sorting key."
      ]
    },
    {
      "cell_type": "code",
      "execution_count": 40,
      "metadata": {
        "colab": {
          "base_uri": "https://localhost:8080/"
        },
        "id": "n1hC3janhICI",
        "outputId": "ea3fc04a-40b8-4d5e-aa9d-af4b1f33faea"
      },
      "outputs": [
        {
          "output_type": "stream",
          "name": "stdout",
          "text": [
            "[('Honda', 1997), ('Toyota', 1995), ('Audi', 2001), ('BMW', 2005)]\n",
            "[('Toyota', 1995), ('Honda', 1997), ('Audi', 2001), ('BMW', 2005)]\n",
            "{'Toyota': 1995, 'Honda': 1997, 'Audi': 2001, 'BMW': 2005}\n"
          ]
        }
      ],
      "source": [
        "d = {'Honda': 1997, 'Toyota': 1995, 'Audi': 2001, 'BMW': 2005}\n",
        "\n",
        "\n",
        "# Your code here:\n",
        "d_nuevo = {}\n",
        "\n",
        "año_marca= list(d.items())\n",
        "print(año_marca) \n",
        "\n",
        "tup_org = sorted (año_marca, key= lambda x: x[1]) \n",
        "\n",
        "print(tup_org)  \n",
        "\n",
        "for m,a in tup_org: \n",
        "  d_nuevo[m]= a \n",
        "print(d_nuevo)\n"
      ]
    },
    {
      "cell_type": "code",
      "execution_count": 41,
      "metadata": {
        "colab": {
          "base_uri": "https://localhost:8080/"
        },
        "id": "xILRq32IhICI",
        "outputId": "d34bfdf7-6fe1-47c4-8352-70c970a84dc9"
      },
      "outputs": [
        {
          "output_type": "stream",
          "name": "stdout",
          "text": [
            "{'Toyota': 1995, 'Honda': 1997, 'Audi': 2001, 'BMW': 2005}\n"
          ]
        }
      ],
      "source": [
        "tuplas_organizadas={key:value for key, value in sorted(año_marca,key=lambda x: x[1])}\n",
        "print(tuplas_organizadas)"
      ]
    }
  ],
  "metadata": {
    "kernelspec": {
      "display_name": "Python 3",
      "language": "python",
      "name": "python3"
    },
    "language_info": {
      "codemirror_mode": {
        "name": "ipython",
        "version": 3
      },
      "file_extension": ".py",
      "mimetype": "text/x-python",
      "name": "python",
      "nbconvert_exporter": "python",
      "pygments_lexer": "ipython3",
      "version": "3.7.3"
    },
    "colab": {
      "provenance": [],
      "include_colab_link": true
    }
  },
  "nbformat": 4,
  "nbformat_minor": 0
}